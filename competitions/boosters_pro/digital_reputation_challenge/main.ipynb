{
 "cells": [
  {
   "cell_type": "markdown",
   "metadata": {},
   "source": [
    "# Бенчмарк для задачи Digital Reputation Challenge\n",
    "\n",
    "https://boosters.pro/championship/digital_reputation_challenge/overview"
   ]
  },
  {
   "cell_type": "code",
   "execution_count": 1,
   "metadata": {},
   "outputs": [],
   "source": [
    "import numpy as np\n",
    "import pandas as pd\n",
    "import matplotlib\n",
    "import matplotlib.pyplot as plt\n",
    "%matplotlib inline"
   ]
  },
  {
   "cell_type": "markdown",
   "metadata": {},
   "source": [
    "## Загрузка данных"
   ]
  },
  {
   "cell_type": "code",
   "execution_count": 2,
   "metadata": {},
   "outputs": [
    {
     "name": "stdout",
     "output_type": "stream",
     "text": [
      "(4000, 26) (462888, 2) (4000, 453) (4000, 6)\n"
     ]
    }
   ],
   "source": [
    "TRAIN_PATH = 'train/'\n",
    "X1 = pd.read_csv(TRAIN_PATH + 'X1.csv')\n",
    "X2 = pd.read_csv(TRAIN_PATH + 'X2.csv')\n",
    "X3 = pd.read_csv(TRAIN_PATH + 'X3.csv')\n",
    "Y = pd.read_csv(TRAIN_PATH + 'Y.csv')\n",
    "print (X1.shape, X2.shape, X3.shape, Y.shape)"
   ]
  },
  {
   "cell_type": "code",
   "execution_count": 3,
   "metadata": {},
   "outputs": [],
   "source": [
    "Y.columns = ['Y' + s if s != 'id' else 'id' for s in Y.columns]"
   ]
  },
  {
   "cell_type": "code",
   "execution_count": 4,
   "metadata": {},
   "outputs": [
    {
     "name": "stdout",
     "output_type": "stream",
     "text": [
      "(4058, 26) (470083, 2) (4058, 453)\n"
     ]
    }
   ],
   "source": [
    "TEST_PATH = 'test/'\n",
    "X1_test = pd.read_csv(TEST_PATH + 'X1.csv')\n",
    "X2_test = pd.read_csv(TEST_PATH + 'X2.csv')\n",
    "X3_test = pd.read_csv(TEST_PATH + 'X3.csv')\n",
    "print (X1_test.shape, X2_test.shape, X3_test.shape)"
   ]
  },
  {
   "cell_type": "markdown",
   "metadata": {},
   "source": [
    "## Подготовка обучения и теста\n",
    "\n",
    "используем только матрицу 1"
   ]
  },
  {
   "cell_type": "code",
   "execution_count": 5,
   "metadata": {},
   "outputs": [],
   "source": [
    "X = X1.copy()\n",
    "X = X.merge(Y)\n",
    "        \n",
    "id_ = X.pop('id')\n",
    "y1 = X.pop('Y1')\n",
    "y2 = X.pop('Y2')\n",
    "y3 = X.pop('Y3')\n",
    "y4 = X.pop('Y4')\n",
    "y5 = X.pop('Y5')\n",
    "\n",
    "X_test = X1_test.copy()\n",
    "id__ = X_test.pop('id')"
   ]
  },
  {
   "cell_type": "markdown",
   "metadata": {},
   "source": [
    "### Эксперименты"
   ]
  },
  {
   "cell_type": "code",
   "execution_count": 6,
   "metadata": {},
   "outputs": [
    {
     "name": "stderr",
     "output_type": "stream",
     "text": [
      "/Applications/anaconda3/lib/python3.7/site-packages/lightgbm/__init__.py:48: UserWarning: Starting from version 2.2.1, the library file in distribution wheels for macOS is built by the Apple Clang (Xcode_8.3.3) compiler.\n",
      "This means that in case of installing LightGBM from PyPI via the ``pip install lightgbm`` command, you don't need to install the gcc compiler anymore.\n",
      "Instead of that, you need to install the OpenMP library, which is required for running LightGBM on the system with the Apple Clang compiler.\n",
      "You can install the OpenMP library by the following command: ``brew install libomp``.\n",
      "  \"You can install the OpenMP library by the following command: ``brew install libomp``.\", UserWarning)\n",
      "/Applications/anaconda3/lib/python3.7/site-packages/lightgbm/engine.py:502: UserWarning: Found `n_estimators` in params. Will use it instead of argument\n",
      "  warnings.warn(\"Found `{}` in params. Will use it instead of argument\".format(alias))\n"
     ]
    },
    {
     "name": "stdout",
     "output_type": "stream",
     "text": [
      "[100]\tcv_agg's auc: 0.599234 + 0.0195272\n",
      "[200]\tcv_agg's auc: 0.596712 + 0.0170425\n",
      "[300]\tcv_agg's auc: 0.594143 + 0.018375\n",
      "[400]\tcv_agg's auc: 0.591514 + 0.0136669\n",
      "[500]\tcv_agg's auc: 0.58992 + 0.0125364\n",
      "[600]\tcv_agg's auc: 0.58904 + 0.0124033\n",
      "[700]\tcv_agg's auc: 0.587703 + 0.0132646\n",
      "[800]\tcv_agg's auc: 0.586441 + 0.0128174\n",
      "[900]\tcv_agg's auc: 0.584627 + 0.0150158\n",
      "[1000]\tcv_agg's auc: 0.582047 + 0.0148836\n"
     ]
    },
    {
     "data": {
      "text/plain": [
       "0.6020871115003614"
      ]
     },
     "execution_count": 6,
     "metadata": {},
     "output_type": "execute_result"
    }
   ],
   "source": [
    "import lightgbm as lgb\n",
    "\n",
    "param = {'n_estimators':1000, 'num_leaves':6, 'objective':'binary',\n",
    "         'learning_rate': 0.05, 'colsample_bytree': 0.75, 'subsample': 0.75,\n",
    "        'metric': 'auc'}\n",
    "         \n",
    "w = lgb.cv(param, lgb.Dataset(X, label=y1),\n",
    "           stratified=False,\n",
    "           num_boost_round=1000, nfold=4, verbose_eval=100)\n",
    "max(w['auc-mean'])"
   ]
  },
  {
   "cell_type": "code",
   "execution_count": 7,
   "metadata": {},
   "outputs": [
    {
     "data": {
      "text/plain": [
       "[<matplotlib.lines.Line2D at 0x119271090>]"
      ]
     },
     "execution_count": 7,
     "metadata": {},
     "output_type": "execute_result"
    },
    {
     "data": {
      "image/png": "[encoded data removed]",
      "text/plain": [
       "<Figure size 432x288 with 1 Axes>"
      ]
     },
     "metadata": {
      "needs_background": "light"
     },
     "output_type": "display_data"
    }
   ],
   "source": [
    "plt.plot(w['auc-mean'])"
   ]
  },
  {
   "cell_type": "markdown",
   "metadata": {},
   "source": [
    "# Подготовка ответа"
   ]
  },
  {
   "cell_type": "code",
   "execution_count": 8,
   "metadata": {},
   "outputs": [],
   "source": [
    "a1 = 0.0\n",
    "for t in range(10):\n",
    "    model1 = lgb.LGBMClassifier(learning_rate=0.01, num_leaves=6,\n",
    "                                n_estimators=290,\n",
    "                                colsample_bytree=0.75, subsample=0.75, random_state=t)\n",
    "    model1.fit(X, y1)\n",
    "    a = model1.predict_proba(X_test)[:,1]\n",
    "    # print (a)\n",
    "    a1 += a\n",
    "a1 = a1 / 10"
   ]
  },
  {
   "cell_type": "code",
   "execution_count": 9,
   "metadata": {},
   "outputs": [],
   "source": [
    "a2 = 0.0\n",
    "for t in range(10):\n",
    "    model2 = lgb.LGBMClassifier(learning_rate=0.03, num_leaves=2,\n",
    "                          n_estimators=378,\n",
    "                          colsample_bytree=0.75, subsample=0.75, random_state=t)\n",
    "    model2.fit(X, y2)\n",
    "    a = model2.predict_proba(X_test)[:,1]\n",
    "    a2 += a\n",
    "a2 = a2 / 10"
   ]
  },
  {
   "cell_type": "code",
   "execution_count": 10,
   "metadata": {},
   "outputs": [],
   "source": [
    "a3 = 0.0\n",
    "for t in range(10):\n",
    "    model3 = lgb.LGBMClassifier(learning_rate=0.01, num_leaves=4,\n",
    "                          n_estimators=543,\n",
    "                          colsample_bytree=0.75, subsample=0.75, random_state=t)\n",
    "    model3.fit(X, y3)\n",
    "    a = model3.predict_proba(X_test)[:,1]\n",
    "    a3 += a\n",
    "a3 = a3 / 10"
   ]
  },
  {
   "cell_type": "code",
   "execution_count": 11,
   "metadata": {},
   "outputs": [],
   "source": [
    "a4 = 0.0\n",
    "for t in range(10):\n",
    "    model4 = lgb.LGBMClassifier(learning_rate=0.003, num_leaves=6,\n",
    "                          n_estimators=618,\n",
    "                          colsample_bytree=0.75, subsample=0.75, random_state=t)\n",
    "    model4.fit(X, y4)\n",
    "    a = model4.predict_proba(X_test)[:,1]\n",
    "    a4 += a\n",
    "a4 = a4 / 10"
   ]
  },
  {
   "cell_type": "code",
   "execution_count": 12,
   "metadata": {},
   "outputs": [],
   "source": [
    "a5 = 0.0\n",
    "for t in range(10):\n",
    "    model5 = lgb.LGBMClassifier(learning_rate=0.002, num_leaves=3,\n",
    "                          n_estimators=516,\n",
    "                          colsample_bytree=0.75, subsample=0.75, random_state=t)\n",
    "    model5.fit(X, y5)\n",
    "    a = model5.predict_proba(X_test)[:,1]\n",
    "    #print (a)\n",
    "    a5 += a\n",
    "a5 = a5 / 10"
   ]
  },
  {
   "cell_type": "code",
   "execution_count": 13,
   "metadata": {},
   "outputs": [
    {
     "data": {
      "text/html": [
       "<div>\n",
       "<style scoped>\n",
       "    .dataframe tbody tr th:only-of-type {\n",
       "        vertical-align: middle;\n",
       "    }\n",
       "\n",
       "    .dataframe tbody tr th {\n",
       "        vertical-align: top;\n",
       "    }\n",
       "\n",
       "    .dataframe thead th {\n",
       "        text-align: right;\n",
       "    }\n",
       "</style>\n",
       "<table border=\"1\" class=\"dataframe\">\n",
       "  <thead>\n",
       "    <tr style=\"text-align: right;\">\n",
       "      <th></th>\n",
       "      <th>id</th>\n",
       "      <th>1</th>\n",
       "      <th>2</th>\n",
       "      <th>3</th>\n",
       "      <th>4</th>\n",
       "      <th>5</th>\n",
       "    </tr>\n",
       "  </thead>\n",
       "  <tbody>\n",
       "    <tr>\n",
       "      <th>0</th>\n",
       "      <td>0</td>\n",
       "      <td>0.329206</td>\n",
       "      <td>0.339997</td>\n",
       "      <td>0.273365</td>\n",
       "      <td>0.275298</td>\n",
       "      <td>0.392948</td>\n",
       "    </tr>\n",
       "    <tr>\n",
       "      <th>1</th>\n",
       "      <td>1</td>\n",
       "      <td>0.338131</td>\n",
       "      <td>0.239503</td>\n",
       "      <td>0.297156</td>\n",
       "      <td>0.253666</td>\n",
       "      <td>0.422096</td>\n",
       "    </tr>\n",
       "    <tr>\n",
       "      <th>2</th>\n",
       "      <td>2</td>\n",
       "      <td>0.409246</td>\n",
       "      <td>0.479009</td>\n",
       "      <td>0.225113</td>\n",
       "      <td>0.277080</td>\n",
       "      <td>0.392853</td>\n",
       "    </tr>\n",
       "    <tr>\n",
       "      <th>3</th>\n",
       "      <td>4</td>\n",
       "      <td>0.318341</td>\n",
       "      <td>0.284155</td>\n",
       "      <td>0.235363</td>\n",
       "      <td>0.275298</td>\n",
       "      <td>0.339467</td>\n",
       "    </tr>\n",
       "    <tr>\n",
       "      <th>4</th>\n",
       "      <td>7</td>\n",
       "      <td>0.353122</td>\n",
       "      <td>0.262029</td>\n",
       "      <td>0.444819</td>\n",
       "      <td>0.358840</td>\n",
       "      <td>0.405003</td>\n",
       "    </tr>\n",
       "  </tbody>\n",
       "</table>\n",
       "</div>"
      ],
      "text/plain": [
       "   id         1         2         3         4         5\n",
       "0   0  0.329206  0.339997  0.273365  0.275298  0.392948\n",
       "1   1  0.338131  0.239503  0.297156  0.253666  0.422096\n",
       "2   2  0.409246  0.479009  0.225113  0.277080  0.392853\n",
       "3   4  0.318341  0.284155  0.235363  0.275298  0.339467\n",
       "4   7  0.353122  0.262029  0.444819  0.358840  0.405003"
      ]
     },
     "execution_count": 13,
     "metadata": {},
     "output_type": "execute_result"
    }
   ],
   "source": [
    "df = pd.DataFrame({'id': X1_test.id.values,\n",
    "             '1': a1,\n",
    "             '2': a2,\n",
    "             '3': a3,\n",
    "             '4': a4,\n",
    "             '5': a5})\n",
    "df.to_csv('results.csv', index=False)\n",
    "df.head()"
   ]
  },
  {
   "cell_type": "code",
   "execution_count": null,
   "metadata": {},
   "outputs": [],
   "source": []
  }
 ],
 "metadata": {
  "kernelspec": {
   "display_name": "Python 3",
   "language": "python",
   "name": "python3"
  },
  "language_info": {
   "codemirror_mode": {
    "name": "ipython",
    "version": 3
   },
   "file_extension": ".py",
   "mimetype": "text/x-python",
   "name": "python",
   "nbconvert_exporter": "python",
   "pygments_lexer": "ipython3",
   "version": "3.7.6"
  }
 },
 "nbformat": 4,
 "nbformat_minor": 2
}
